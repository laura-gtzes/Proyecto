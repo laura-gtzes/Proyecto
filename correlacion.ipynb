{
 "cells": [
  {
   "cell_type": "code",
   "execution_count": 10,
   "metadata": {},
   "outputs": [],
   "source": [
    "import pandas as pd"
   ]
  },
  {
   "cell_type": "code",
   "execution_count": 11,
   "metadata": {},
   "outputs": [],
   "source": [
    "MSFT = pd.read_csv(\"/Users/lauragutierrez/Documents/PROYECTO ASE/MSFT.CSV\", sep=',')\n",
    "AMZN = pd.read_csv(\"/Users/lauragutierrez/Documents/PROYECTO ASE/AMZN.CSV\", sep=',')\n",
    "BA = pd.read_csv(\"/Users/lauragutierrez/Documents/PROYECTO ASE/BA.CSV\", sep=',')\n",
    "T = pd.read_csv(\"/Users/lauragutierrez/Documents/PROYECTO ASE/T.CSV\", sep=',')"
   ]
  },
  {
   "cell_type": "code",
   "execution_count": 12,
   "metadata": {},
   "outputs": [
    {
     "data": {
      "text/html": [
       "<div>\n",
       "<style scoped>\n",
       "    .dataframe tbody tr th:only-of-type {\n",
       "        vertical-align: middle;\n",
       "    }\n",
       "\n",
       "    .dataframe tbody tr th {\n",
       "        vertical-align: top;\n",
       "    }\n",
       "\n",
       "    .dataframe thead th {\n",
       "        text-align: right;\n",
       "    }\n",
       "</style>\n",
       "<table border=\"1\" class=\"dataframe\">\n",
       "  <thead>\n",
       "    <tr style=\"text-align: right;\">\n",
       "      <th></th>\n",
       "      <th>Date</th>\n",
       "      <th>Open</th>\n",
       "      <th>High</th>\n",
       "      <th>Low</th>\n",
       "      <th>Close</th>\n",
       "      <th>Adj Close</th>\n",
       "      <th>Volume</th>\n",
       "    </tr>\n",
       "  </thead>\n",
       "  <tbody>\n",
       "    <tr>\n",
       "      <th>0</th>\n",
       "      <td>2010-03-15</td>\n",
       "      <td>29.180000</td>\n",
       "      <td>29.370001</td>\n",
       "      <td>29.010000</td>\n",
       "      <td>29.290001</td>\n",
       "      <td>22.866486</td>\n",
       "      <td>37512000</td>\n",
       "    </tr>\n",
       "    <tr>\n",
       "      <th>1</th>\n",
       "      <td>2010-03-16</td>\n",
       "      <td>29.420000</td>\n",
       "      <td>29.490000</td>\n",
       "      <td>29.200001</td>\n",
       "      <td>29.370001</td>\n",
       "      <td>22.928942</td>\n",
       "      <td>36723500</td>\n",
       "    </tr>\n",
       "    <tr>\n",
       "      <th>2</th>\n",
       "      <td>2010-03-17</td>\n",
       "      <td>29.500000</td>\n",
       "      <td>29.870001</td>\n",
       "      <td>29.400000</td>\n",
       "      <td>29.629999</td>\n",
       "      <td>23.131914</td>\n",
       "      <td>50385700</td>\n",
       "    </tr>\n",
       "    <tr>\n",
       "      <th>3</th>\n",
       "      <td>2010-03-18</td>\n",
       "      <td>29.629999</td>\n",
       "      <td>29.719999</td>\n",
       "      <td>29.500000</td>\n",
       "      <td>29.610001</td>\n",
       "      <td>23.116302</td>\n",
       "      <td>43845200</td>\n",
       "    </tr>\n",
       "    <tr>\n",
       "      <th>4</th>\n",
       "      <td>2010-03-19</td>\n",
       "      <td>29.760000</td>\n",
       "      <td>29.900000</td>\n",
       "      <td>29.350000</td>\n",
       "      <td>29.590000</td>\n",
       "      <td>23.100687</td>\n",
       "      <td>81332100</td>\n",
       "    </tr>\n",
       "  </tbody>\n",
       "</table>\n",
       "</div>"
      ],
      "text/plain": [
       "         Date       Open       High        Low      Close  Adj Close    Volume\n",
       "0  2010-03-15  29.180000  29.370001  29.010000  29.290001  22.866486  37512000\n",
       "1  2010-03-16  29.420000  29.490000  29.200001  29.370001  22.928942  36723500\n",
       "2  2010-03-17  29.500000  29.870001  29.400000  29.629999  23.131914  50385700\n",
       "3  2010-03-18  29.629999  29.719999  29.500000  29.610001  23.116302  43845200\n",
       "4  2010-03-19  29.760000  29.900000  29.350000  29.590000  23.100687  81332100"
      ]
     },
     "execution_count": 12,
     "metadata": {},
     "output_type": "execute_result"
    }
   ],
   "source": [
    "MSFT.head()"
   ]
  },
  {
   "cell_type": "code",
   "execution_count": 13,
   "metadata": {},
   "outputs": [
    {
     "data": {
      "text/html": [
       "<div>\n",
       "<style scoped>\n",
       "    .dataframe tbody tr th:only-of-type {\n",
       "        vertical-align: middle;\n",
       "    }\n",
       "\n",
       "    .dataframe tbody tr th {\n",
       "        vertical-align: top;\n",
       "    }\n",
       "\n",
       "    .dataframe thead th {\n",
       "        text-align: right;\n",
       "    }\n",
       "</style>\n",
       "<table border=\"1\" class=\"dataframe\">\n",
       "  <thead>\n",
       "    <tr style=\"text-align: right;\">\n",
       "      <th></th>\n",
       "      <th>Fecha</th>\n",
       "      <th>PrecioMSFT</th>\n",
       "    </tr>\n",
       "  </thead>\n",
       "  <tbody>\n",
       "    <tr>\n",
       "      <th>0</th>\n",
       "      <td>2010-03-15</td>\n",
       "      <td>22.866486</td>\n",
       "    </tr>\n",
       "    <tr>\n",
       "      <th>1</th>\n",
       "      <td>2010-03-16</td>\n",
       "      <td>22.928942</td>\n",
       "    </tr>\n",
       "    <tr>\n",
       "      <th>2</th>\n",
       "      <td>2010-03-17</td>\n",
       "      <td>23.131914</td>\n",
       "    </tr>\n",
       "    <tr>\n",
       "      <th>3</th>\n",
       "      <td>2010-03-18</td>\n",
       "      <td>23.116302</td>\n",
       "    </tr>\n",
       "    <tr>\n",
       "      <th>4</th>\n",
       "      <td>2010-03-19</td>\n",
       "      <td>23.100687</td>\n",
       "    </tr>\n",
       "  </tbody>\n",
       "</table>\n",
       "</div>"
      ],
      "text/plain": [
       "        Fecha  PrecioMSFT\n",
       "0  2010-03-15   22.866486\n",
       "1  2010-03-16   22.928942\n",
       "2  2010-03-17   23.131914\n",
       "3  2010-03-18   23.116302\n",
       "4  2010-03-19   23.100687"
      ]
     },
     "execution_count": 13,
     "metadata": {},
     "output_type": "execute_result"
    }
   ],
   "source": [
    "filtro = [\"Date\",\"Adj Close\"]\n",
    "MSFT = MSFT[filtro]\n",
    "MSFT.columns = ['Fecha', 'PrecioMSFT']\n",
    "MSFT.head()"
   ]
  },
  {
   "cell_type": "code",
   "execution_count": 14,
   "metadata": {},
   "outputs": [
    {
     "data": {
      "text/html": [
       "<div>\n",
       "<style scoped>\n",
       "    .dataframe tbody tr th:only-of-type {\n",
       "        vertical-align: middle;\n",
       "    }\n",
       "\n",
       "    .dataframe tbody tr th {\n",
       "        vertical-align: top;\n",
       "    }\n",
       "\n",
       "    .dataframe thead th {\n",
       "        text-align: right;\n",
       "    }\n",
       "</style>\n",
       "<table border=\"1\" class=\"dataframe\">\n",
       "  <thead>\n",
       "    <tr style=\"text-align: right;\">\n",
       "      <th></th>\n",
       "      <th>Fecha</th>\n",
       "      <th>PrecioAMZN</th>\n",
       "    </tr>\n",
       "  </thead>\n",
       "  <tbody>\n",
       "    <tr>\n",
       "      <th>0</th>\n",
       "      <td>2010-03-15</td>\n",
       "      <td>131.130005</td>\n",
       "    </tr>\n",
       "    <tr>\n",
       "      <th>1</th>\n",
       "      <td>2010-03-16</td>\n",
       "      <td>131.789993</td>\n",
       "    </tr>\n",
       "    <tr>\n",
       "      <th>2</th>\n",
       "      <td>2010-03-17</td>\n",
       "      <td>131.339996</td>\n",
       "    </tr>\n",
       "    <tr>\n",
       "      <th>3</th>\n",
       "      <td>2010-03-18</td>\n",
       "      <td>132.759995</td>\n",
       "    </tr>\n",
       "    <tr>\n",
       "      <th>4</th>\n",
       "      <td>2010-03-19</td>\n",
       "      <td>130.350006</td>\n",
       "    </tr>\n",
       "  </tbody>\n",
       "</table>\n",
       "</div>"
      ],
      "text/plain": [
       "        Fecha  PrecioAMZN\n",
       "0  2010-03-15  131.130005\n",
       "1  2010-03-16  131.789993\n",
       "2  2010-03-17  131.339996\n",
       "3  2010-03-18  132.759995\n",
       "4  2010-03-19  130.350006"
      ]
     },
     "execution_count": 14,
     "metadata": {},
     "output_type": "execute_result"
    }
   ],
   "source": [
    "filtro = [\"Date\",\"Adj Close\"]\n",
    "AMZN = AMZN[filtro]\n",
    "AMZN.columns = ['Fecha', 'PrecioAMZN']\n",
    "AMZN.head()"
   ]
  },
  {
   "cell_type": "code",
   "execution_count": 15,
   "metadata": {},
   "outputs": [
    {
     "data": {
      "text/html": [
       "<div>\n",
       "<style scoped>\n",
       "    .dataframe tbody tr th:only-of-type {\n",
       "        vertical-align: middle;\n",
       "    }\n",
       "\n",
       "    .dataframe tbody tr th {\n",
       "        vertical-align: top;\n",
       "    }\n",
       "\n",
       "    .dataframe thead th {\n",
       "        text-align: right;\n",
       "    }\n",
       "</style>\n",
       "<table border=\"1\" class=\"dataframe\">\n",
       "  <thead>\n",
       "    <tr style=\"text-align: right;\">\n",
       "      <th></th>\n",
       "      <th>Fecha</th>\n",
       "      <th>PrecioBA</th>\n",
       "    </tr>\n",
       "  </thead>\n",
       "  <tbody>\n",
       "    <tr>\n",
       "      <th>0</th>\n",
       "      <td>2010-03-15</td>\n",
       "      <td>54.448277</td>\n",
       "    </tr>\n",
       "    <tr>\n",
       "      <th>1</th>\n",
       "      <td>2010-03-16</td>\n",
       "      <td>53.914787</td>\n",
       "    </tr>\n",
       "    <tr>\n",
       "      <th>2</th>\n",
       "      <td>2010-03-17</td>\n",
       "      <td>54.432568</td>\n",
       "    </tr>\n",
       "    <tr>\n",
       "      <th>3</th>\n",
       "      <td>2010-03-18</td>\n",
       "      <td>55.601555</td>\n",
       "    </tr>\n",
       "    <tr>\n",
       "      <th>4</th>\n",
       "      <td>2010-03-19</td>\n",
       "      <td>55.483887</td>\n",
       "    </tr>\n",
       "  </tbody>\n",
       "</table>\n",
       "</div>"
      ],
      "text/plain": [
       "        Fecha   PrecioBA\n",
       "0  2010-03-15  54.448277\n",
       "1  2010-03-16  53.914787\n",
       "2  2010-03-17  54.432568\n",
       "3  2010-03-18  55.601555\n",
       "4  2010-03-19  55.483887"
      ]
     },
     "execution_count": 15,
     "metadata": {},
     "output_type": "execute_result"
    }
   ],
   "source": [
    "filtro = [\"Date\",\"Adj Close\"]\n",
    "BA = BA[filtro]\n",
    "BA.columns = ['Fecha', 'PrecioBA']\n",
    "BA.head()"
   ]
  },
  {
   "cell_type": "code",
   "execution_count": 16,
   "metadata": {},
   "outputs": [
    {
     "data": {
      "text/html": [
       "<div>\n",
       "<style scoped>\n",
       "    .dataframe tbody tr th:only-of-type {\n",
       "        vertical-align: middle;\n",
       "    }\n",
       "\n",
       "    .dataframe tbody tr th {\n",
       "        vertical-align: top;\n",
       "    }\n",
       "\n",
       "    .dataframe thead th {\n",
       "        text-align: right;\n",
       "    }\n",
       "</style>\n",
       "<table border=\"1\" class=\"dataframe\">\n",
       "  <thead>\n",
       "    <tr style=\"text-align: right;\">\n",
       "      <th></th>\n",
       "      <th>Fecha</th>\n",
       "      <th>PrecioT</th>\n",
       "    </tr>\n",
       "  </thead>\n",
       "  <tbody>\n",
       "    <tr>\n",
       "      <th>0</th>\n",
       "      <td>2010-03-15</td>\n",
       "      <td>13.672764</td>\n",
       "    </tr>\n",
       "    <tr>\n",
       "      <th>1</th>\n",
       "      <td>2010-03-16</td>\n",
       "      <td>13.709894</td>\n",
       "    </tr>\n",
       "    <tr>\n",
       "      <th>2</th>\n",
       "      <td>2010-03-17</td>\n",
       "      <td>13.736404</td>\n",
       "    </tr>\n",
       "    <tr>\n",
       "      <th>3</th>\n",
       "      <td>2010-03-18</td>\n",
       "      <td>13.821263</td>\n",
       "    </tr>\n",
       "    <tr>\n",
       "      <th>4</th>\n",
       "      <td>2010-03-19</td>\n",
       "      <td>13.916731</td>\n",
       "    </tr>\n",
       "  </tbody>\n",
       "</table>\n",
       "</div>"
      ],
      "text/plain": [
       "        Fecha    PrecioT\n",
       "0  2010-03-15  13.672764\n",
       "1  2010-03-16  13.709894\n",
       "2  2010-03-17  13.736404\n",
       "3  2010-03-18  13.821263\n",
       "4  2010-03-19  13.916731"
      ]
     },
     "execution_count": 16,
     "metadata": {},
     "output_type": "execute_result"
    }
   ],
   "source": [
    "filtro = [\"Date\",\"Adj Close\"]\n",
    "T = T[filtro]\n",
    "T.columns = ['Fecha', 'PrecioT']\n",
    "T.head()"
   ]
  },
  {
   "cell_type": "code",
   "execution_count": 17,
   "metadata": {},
   "outputs": [
    {
     "data": {
      "text/html": [
       "<div>\n",
       "<style scoped>\n",
       "    .dataframe tbody tr th:only-of-type {\n",
       "        vertical-align: middle;\n",
       "    }\n",
       "\n",
       "    .dataframe tbody tr th {\n",
       "        vertical-align: top;\n",
       "    }\n",
       "\n",
       "    .dataframe thead th {\n",
       "        text-align: right;\n",
       "    }\n",
       "</style>\n",
       "<table border=\"1\" class=\"dataframe\">\n",
       "  <thead>\n",
       "    <tr style=\"text-align: right;\">\n",
       "      <th></th>\n",
       "      <th>Fecha</th>\n",
       "      <th>PrecioT</th>\n",
       "      <th>PrecioBA</th>\n",
       "      <th>PrecioAMZN</th>\n",
       "      <th>PrecioMSFT</th>\n",
       "    </tr>\n",
       "  </thead>\n",
       "  <tbody>\n",
       "    <tr>\n",
       "      <th>0</th>\n",
       "      <td>2010-03-15</td>\n",
       "      <td>13.672764</td>\n",
       "      <td>54.448277</td>\n",
       "      <td>131.130005</td>\n",
       "      <td>22.866486</td>\n",
       "    </tr>\n",
       "    <tr>\n",
       "      <th>1</th>\n",
       "      <td>2010-03-16</td>\n",
       "      <td>13.709894</td>\n",
       "      <td>53.914787</td>\n",
       "      <td>131.789993</td>\n",
       "      <td>22.928942</td>\n",
       "    </tr>\n",
       "    <tr>\n",
       "      <th>2</th>\n",
       "      <td>2010-03-17</td>\n",
       "      <td>13.736404</td>\n",
       "      <td>54.432568</td>\n",
       "      <td>131.339996</td>\n",
       "      <td>23.131914</td>\n",
       "    </tr>\n",
       "    <tr>\n",
       "      <th>3</th>\n",
       "      <td>2010-03-18</td>\n",
       "      <td>13.821263</td>\n",
       "      <td>55.601555</td>\n",
       "      <td>132.759995</td>\n",
       "      <td>23.116302</td>\n",
       "    </tr>\n",
       "    <tr>\n",
       "      <th>4</th>\n",
       "      <td>2010-03-19</td>\n",
       "      <td>13.916731</td>\n",
       "      <td>55.483887</td>\n",
       "      <td>130.350006</td>\n",
       "      <td>23.100687</td>\n",
       "    </tr>\n",
       "  </tbody>\n",
       "</table>\n",
       "</div>"
      ],
      "text/plain": [
       "        Fecha    PrecioT   PrecioBA  PrecioAMZN  PrecioMSFT\n",
       "0  2010-03-15  13.672764  54.448277  131.130005   22.866486\n",
       "1  2010-03-16  13.709894  53.914787  131.789993   22.928942\n",
       "2  2010-03-17  13.736404  54.432568  131.339996   23.131914\n",
       "3  2010-03-18  13.821263  55.601555  132.759995   23.116302\n",
       "4  2010-03-19  13.916731  55.483887  130.350006   23.100687"
      ]
     },
     "execution_count": 17,
     "metadata": {},
     "output_type": "execute_result"
    }
   ],
   "source": [
    "total = pd.merge(AMZN,MSFT)\n",
    "total = pd.merge(BA,total)\n",
    "total = pd.merge(T,total)\n",
    "total.head()"
   ]
  },
  {
   "cell_type": "code",
   "execution_count": 18,
   "metadata": {},
   "outputs": [],
   "source": [
    "fecha = (total[\"Fecha\"]>=\"2010-03-15\")& (total[\"Fecha\"]<\"2020-03-15\")\n",
    "pre = total[fecha]"
   ]
  },
  {
   "cell_type": "code",
   "execution_count": 19,
   "metadata": {},
   "outputs": [
    {
     "data": {
      "text/html": [
       "<div>\n",
       "<style scoped>\n",
       "    .dataframe tbody tr th:only-of-type {\n",
       "        vertical-align: middle;\n",
       "    }\n",
       "\n",
       "    .dataframe tbody tr th {\n",
       "        vertical-align: top;\n",
       "    }\n",
       "\n",
       "    .dataframe thead th {\n",
       "        text-align: right;\n",
       "    }\n",
       "</style>\n",
       "<table border=\"1\" class=\"dataframe\">\n",
       "  <thead>\n",
       "    <tr style=\"text-align: right;\">\n",
       "      <th></th>\n",
       "      <th>Fecha</th>\n",
       "      <th>PrecioT</th>\n",
       "      <th>PrecioBA</th>\n",
       "      <th>PrecioAMZN</th>\n",
       "      <th>PrecioMSFT</th>\n",
       "    </tr>\n",
       "  </thead>\n",
       "  <tbody>\n",
       "    <tr>\n",
       "      <th>2513</th>\n",
       "      <td>2020-03-09</td>\n",
       "      <td>31.787716</td>\n",
       "      <td>227.169998</td>\n",
       "      <td>1800.609985</td>\n",
       "      <td>149.104797</td>\n",
       "    </tr>\n",
       "    <tr>\n",
       "      <th>2514</th>\n",
       "      <td>2020-03-10</td>\n",
       "      <td>32.850674</td>\n",
       "      <td>231.009995</td>\n",
       "      <td>1891.819946</td>\n",
       "      <td>159.301178</td>\n",
       "    </tr>\n",
       "    <tr>\n",
       "      <th>2515</th>\n",
       "      <td>2020-03-11</td>\n",
       "      <td>31.631947</td>\n",
       "      <td>189.080002</td>\n",
       "      <td>1820.859985</td>\n",
       "      <td>152.084518</td>\n",
       "    </tr>\n",
       "    <tr>\n",
       "      <th>2516</th>\n",
       "      <td>2020-03-12</td>\n",
       "      <td>28.708830</td>\n",
       "      <td>154.839996</td>\n",
       "      <td>1676.609985</td>\n",
       "      <td>137.661087</td>\n",
       "    </tr>\n",
       "    <tr>\n",
       "      <th>2517</th>\n",
       "      <td>2020-03-13</td>\n",
       "      <td>31.586132</td>\n",
       "      <td>170.199997</td>\n",
       "      <td>1785.000000</td>\n",
       "      <td>157.232208</td>\n",
       "    </tr>\n",
       "  </tbody>\n",
       "</table>\n",
       "</div>"
      ],
      "text/plain": [
       "           Fecha    PrecioT    PrecioBA   PrecioAMZN  PrecioMSFT\n",
       "2513  2020-03-09  31.787716  227.169998  1800.609985  149.104797\n",
       "2514  2020-03-10  32.850674  231.009995  1891.819946  159.301178\n",
       "2515  2020-03-11  31.631947  189.080002  1820.859985  152.084518\n",
       "2516  2020-03-12  28.708830  154.839996  1676.609985  137.661087\n",
       "2517  2020-03-13  31.586132  170.199997  1785.000000  157.232208"
      ]
     },
     "execution_count": 19,
     "metadata": {},
     "output_type": "execute_result"
    }
   ],
   "source": [
    "pre.tail()"
   ]
  },
  {
   "cell_type": "code",
   "execution_count": 20,
   "metadata": {},
   "outputs": [],
   "source": [
    "fecha = (total[\"Fecha\"]>=\"2020-03-15\")\n",
    "post = total[fecha]"
   ]
  },
  {
   "cell_type": "code",
   "execution_count": 21,
   "metadata": {},
   "outputs": [
    {
     "data": {
      "text/html": [
       "<div>\n",
       "<style scoped>\n",
       "    .dataframe tbody tr th:only-of-type {\n",
       "        vertical-align: middle;\n",
       "    }\n",
       "\n",
       "    .dataframe tbody tr th {\n",
       "        vertical-align: top;\n",
       "    }\n",
       "\n",
       "    .dataframe thead th {\n",
       "        text-align: right;\n",
       "    }\n",
       "</style>\n",
       "<table border=\"1\" class=\"dataframe\">\n",
       "  <thead>\n",
       "    <tr style=\"text-align: right;\">\n",
       "      <th></th>\n",
       "      <th>Fecha</th>\n",
       "      <th>PrecioT</th>\n",
       "      <th>PrecioBA</th>\n",
       "      <th>PrecioAMZN</th>\n",
       "      <th>PrecioMSFT</th>\n",
       "    </tr>\n",
       "  </thead>\n",
       "  <tbody>\n",
       "    <tr>\n",
       "      <th>2518</th>\n",
       "      <td>2020-03-16</td>\n",
       "      <td>29.148670</td>\n",
       "      <td>129.610001</td>\n",
       "      <td>1689.150024</td>\n",
       "      <td>134.057693</td>\n",
       "    </tr>\n",
       "    <tr>\n",
       "      <th>2519</th>\n",
       "      <td>2020-03-17</td>\n",
       "      <td>30.917206</td>\n",
       "      <td>124.139999</td>\n",
       "      <td>1807.839966</td>\n",
       "      <td>145.095551</td>\n",
       "    </tr>\n",
       "    <tr>\n",
       "      <th>2520</th>\n",
       "      <td>2020-03-18</td>\n",
       "      <td>30.101662</td>\n",
       "      <td>101.889999</td>\n",
       "      <td>1830.000000</td>\n",
       "      <td>138.987595</td>\n",
       "    </tr>\n",
       "    <tr>\n",
       "      <th>2521</th>\n",
       "      <td>2020-03-19</td>\n",
       "      <td>28.543888</td>\n",
       "      <td>97.709999</td>\n",
       "      <td>1880.930054</td>\n",
       "      <td>141.274368</td>\n",
       "    </tr>\n",
       "    <tr>\n",
       "      <th>2522</th>\n",
       "      <td>2020-03-20</td>\n",
       "      <td>26.069780</td>\n",
       "      <td>95.010002</td>\n",
       "      <td>1846.089966</td>\n",
       "      <td>135.968292</td>\n",
       "    </tr>\n",
       "  </tbody>\n",
       "</table>\n",
       "</div>"
      ],
      "text/plain": [
       "           Fecha    PrecioT    PrecioBA   PrecioAMZN  PrecioMSFT\n",
       "2518  2020-03-16  29.148670  129.610001  1689.150024  134.057693\n",
       "2519  2020-03-17  30.917206  124.139999  1807.839966  145.095551\n",
       "2520  2020-03-18  30.101662  101.889999  1830.000000  138.987595\n",
       "2521  2020-03-19  28.543888   97.709999  1880.930054  141.274368\n",
       "2522  2020-03-20  26.069780   95.010002  1846.089966  135.968292"
      ]
     },
     "execution_count": 21,
     "metadata": {},
     "output_type": "execute_result"
    }
   ],
   "source": [
    "post.head()"
   ]
  },
  {
   "cell_type": "code",
   "execution_count": 22,
   "metadata": {},
   "outputs": [],
   "source": [
    "import seaborn as sns\n",
    "import matplotlib.pyplot as plt"
   ]
  },
  {
   "cell_type": "code",
   "execution_count": 23,
   "metadata": {},
   "outputs": [
    {
     "data": {
      "image/png": "[encoded data removed]",
      "text/plain": [
       "<Figure size 432x288 with 2 Axes>"
      ]
     },
     "metadata": {
      "needs_background": "light"
     },
     "output_type": "display_data"
    }
   ],
   "source": [
    "correlation = pre.corr()\n",
    "sns.heatmap(correlation, annot = True)\n",
    "plt.show()"
   ]
  },
  {
   "cell_type": "code",
   "execution_count": 24,
   "metadata": {},
   "outputs": [
    {
     "data": {
      "image/png": "[encoded data removed]",
      "text/plain": [
       "<Figure size 432x288 with 2 Axes>"
      ]
     },
     "metadata": {
      "needs_background": "light"
     },
     "output_type": "display_data"
    }
   ],
   "source": [
    "correlation = post.corr()\n",
    "sns.heatmap(correlation, annot = True)\n",
    "plt.show()"
   ]
  },
  {
   "cell_type": "code",
   "execution_count": null,
   "metadata": {},
   "outputs": [],
   "source": []
  }
 ],
 "metadata": {
  "kernelspec": {
   "display_name": "Python 3",
   "language": "python",
   "name": "python3"
  },
  "language_info": {
   "codemirror_mode": {
    "name": "ipython",
    "version": 3
   },
   "file_extension": ".py",
   "mimetype": "text/x-python",
   "name": "python",
   "nbconvert_exporter": "python",
   "pygments_lexer": "ipython3",
   "version": "3.8.3"
  }
 },
 "nbformat": 4,
 "nbformat_minor": 4
}
